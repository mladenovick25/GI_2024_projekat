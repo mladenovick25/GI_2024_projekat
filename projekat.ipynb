{
 "cells": [
  {
   "cell_type": "code",
   "execution_count": 1,
   "metadata": {},
   "outputs": [],
   "source": [
    "import os\n",
    "\n",
    "# Set paths to tools and files\n",
    "gatk_path = \"/Downloads/gatk-4.5.0.0/gatk\"  # GATK library path\n",
    "freebayes_path = \"/usr/bin/freebayes\"  # Freebayes library path\n",
    "reference_genome = \"human_g1k_v37_decoy.fasta\"\n",
    "bam_file = \"C835.HCC1143.2.converted.realigned.base_recalibrated.bam\""
   ]
  },
  {
   "cell_type": "code",
   "execution_count": 19,
   "metadata": {},
   "outputs": [],
   "source": [
    "\n",
    "#sudo apt-get install samtools\n",
    "#sudo apt-get install bcftools\n",
    "\n",
    "# Index the reference genome\n",
    "#samtools faidx human_g1k_v37_decoy.fasta\n",
    "#samtools index C835.HCC1143.2.converted.realigned.base_recalibrated.bam"
   ]
  },
  {
   "cell_type": "code",
   "execution_count": 18,
   "metadata": {},
   "outputs": [
    {
     "data": {
      "text/plain": [
       "'gatk HaplotypeCaller    -R human_g1k_v37_decoy.fasta    -I C835.HCC1143.2.converted.realigned.base_recalibrated.bam    -O output_gatk.vcf'"
      ]
     },
     "execution_count": 18,
     "metadata": {},
     "output_type": "execute_result"
    }
   ],
   "source": [
    "# Variant calling -> GATK 4 HaplotypeCaller \n",
    "'''gatk HaplotypeCaller \\\n",
    "   -R human_g1k_v37_decoy.fasta \\\n",
    "   -I C835.HCC1143.2.converted.realigned.base_recalibrated.bam \\\n",
    "   -O output_gatk.vcf'''\n",
    "\n",
    "# Variant calling -> FreeBayes caller\n",
    "#freebayes -f human_g1k_v37_decoy.fasta C835.HCC1143.2.converted.realigned.base_recalibrated.bam > output_freebayes.vcf\n"
   ]
  },
  {
   "cell_type": "code",
   "execution_count": 2,
   "metadata": {},
   "outputs": [
    {
     "name": "stdout",
     "output_type": "stream",
     "text": [
      "GATK HaplotypeCaller output VCF generated successfully.\n",
      "FreeBayes output VCF generated successfully.\n"
     ]
    }
   ],
   "source": [
    "import os\n",
    "\n",
    "# Verify that the output VCF files are generated\n",
    "if os.path.exists(\"output_gatk.vcf\"):\n",
    "    print(\"GATK HaplotypeCaller output VCF generated successfully.\")\n",
    "else:\n",
    "    print(\"GATK HaplotypeCaller output VCF generation failed.\")\n",
    "\n",
    "if os.path.exists(\"output_freebayes.vcf\"):\n",
    "    print(\"FreeBayes output VCF generated successfully.\")\n",
    "else:\n",
    "    print(\"FreeBayes output VCF generation failed.\")\n"
   ]
  },
  {
   "cell_type": "code",
   "execution_count": 20,
   "metadata": {},
   "outputs": [],
   "source": [
    "#Process of filtering\n",
    "\n",
    "\n",
    "#bcftools view -f PASS -Oz -o output_gatk.filtered.vcf.gz output_gatk.vcf\n",
    "#bcftools view -f PASS -Oz -o output_freebayes.filtered.vcf.gz output_freebayes.vcf\n",
    "\n",
    "#bcftools query -f '%CHROM\\t%POS\\t%REF\\t%ALT\\n' output_gatk.filtered.vcf.gz > output_gatk.filtered.csv\n",
    "#bcftools query -f '%CHROM\\t%POS\\t%REF\\t%ALT\\n' output_freebayes.filtered.vcf.gz > output_freebayes.filtered.csv\n"
   ]
  },
  {
   "cell_type": "code",
   "execution_count": 9,
   "metadata": {},
   "outputs": [
    {
     "data": {
      "text/plain": [
       "(  chrom    pos ref alt\n",
       " 0     1  14653   C   T\n",
       " 1     1  14671   G   C\n",
       " 2     1  17172   G   A\n",
       " 3     1  17379   G   A\n",
       " 4     1  69270   A   G,\n",
       "   chrom    pos ref alt\n",
       " 0     1  14653   C   T\n",
       " 1     1  14671   G   C\n",
       " 2     1  14760   A   G\n",
       " 3     1  14766   T   G\n",
       " 4     1  14792   G   A)"
      ]
     },
     "execution_count": 9,
     "metadata": {},
     "output_type": "execute_result"
    }
   ],
   "source": [
    "import pandas as pd\n",
    "import pysam\n",
    "import matplotlib.pyplot as plt\n",
    "\n",
    "\n",
    "# Define file paths\n",
    "truth_vcf_path = \"output_gatk.filtered.csv\"  # HaplotypeCaller output\n",
    "test_vcf_path = \"output_freebayes.filtered.csv\"  # FreeBayes output\n",
    "\n",
    "# Specify data types for each column\n",
    "dtype = {'chrom': str, 'pos': int, 'ref': str, 'alt': str}\n",
    "\n",
    "# Load the CSV files into DataFrames\n",
    "gatk_variants = pd.read_csv(truth_vcf_path, sep='\\t', names=['chrom', 'pos', 'ref', 'alt'], dtype=dtype)\n",
    "freebayes_variants = pd.read_csv(test_vcf_path, sep='\\t', names=['chrom', 'pos', 'ref', 'alt'], dtype=dtype)\n",
    "\n",
    "# Display the first few rows of the DataFrames to ensure they are loaded correctly\n",
    "gatk_variants.head(), freebayes_variants.head()\n"
   ]
  },
  {
   "cell_type": "code",
   "execution_count": 10,
   "metadata": {},
   "outputs": [
    {
     "name": "stdout",
     "output_type": "stream",
     "text": [
      "True Positives: 58591\n",
      "False Positives: 104701\n",
      "False Negatives: 11651\n",
      "Precision: 0.3588\n",
      "Recall: 0.8341\n",
      "F-score: 0.5018\n"
     ]
    }
   ],
   "source": [
    "# Merge the DataFrames on chrom, pos, ref, alt\n",
    "merged_variants = pd.merge(gatk_variants, freebayes_variants, on=['chrom', 'pos', 'ref', 'alt'], how='outer', indicator=True)\n",
    "\n",
    "# Calculate true positives, false positives, and false negatives\n",
    "true_positives = merged_variants[merged_variants['_merge'] == 'both'].shape[0]\n",
    "false_positives = merged_variants[merged_variants['_merge'] == 'right_only'].shape[0]\n",
    "false_negatives = merged_variants[merged_variants['_merge'] == 'left_only'].shape[0]\n",
    "\n",
    "# Calculate precision, recall, and f-score\n",
    "precision = true_positives / (true_positives + false_positives)\n",
    "recall = true_positives / (true_positives + false_negatives)\n",
    "f_score = 2 * precision * recall / (precision + recall)\n",
    "\n",
    "# Print the results\n",
    "print(f'True Positives: {true_positives}')\n",
    "print(f'False Positives: {false_positives}')\n",
    "print(f'False Negatives: {false_negatives}')\n",
    "print(f'Precision: {precision:.4f}')\n",
    "print(f'Recall: {recall:.4f}')\n",
    "print(f'F-score: {f_score:.4f}')\n"
   ]
  },
  {
   "cell_type": "code",
   "execution_count": 21,
   "metadata": {},
   "outputs": [
    {
     "data": {
      "image/png": "[encoded data removed]",
      "text/plain": [
       "<Figure size 720x432 with 1 Axes>"
      ]
     },
     "metadata": {
      "needs_background": "light"
     },
     "output_type": "display_data"
    }
   ],
   "source": [
    "import matplotlib.pyplot as plt\n",
    "\n",
    "# Data for the bar chart\n",
    "labels = ['True Positives', 'False Positives', 'False Negatives']\n",
    "counts = [true_positives, false_positives, false_negatives]\n",
    "\n",
    "sum_true_false = true_positives + false_positives + false_negatives\n",
    "\n",
    "# Create bar chart\n",
    "plt.figure(figsize=(10, 6))\n",
    "plt.bar(labels, counts, color=['green', 'orange', 'red'])\n",
    "plt.xlabel('Variant Categories')\n",
    "plt.ylabel('Count')\n",
    "plt.title('Comparison of Variant Calling Results')\n",
    "plt.text(0, true_positives, f\"{true_positives} ({(true_positives * 100 / sum_true_false):.4f}%)\", ha='center', va='bottom')\n",
    "plt.text(1, false_positives, f\"{false_positives} ({(false_positives * 100 / sum_true_false):.4f}%)\", ha='center', va='bottom')\n",
    "plt.text(2, false_negatives, f\"{false_negatives} ({(false_negatives * 100 / sum_true_false):.4f}%)\", ha='center', va='bottom')\n",
    "\n",
    "# Add metrics\n",
    "plt.figtext(0.15, 0.8, f'Precision: {precision:.4f}', fontsize=12)\n",
    "plt.figtext(0.15, 0.75, f'Recall: {recall:.4f}', fontsize=12)\n",
    "plt.figtext(0.15, 0.7, f'F-score: {f_score:.4f}', fontsize=12)\n",
    "\n",
    "# Show plot\n",
    "plt.savefig('bar_chart.png')\n",
    "plt.show()\n"
   ]
  }
 ],
 "metadata": {
  "kernelspec": {
   "display_name": "Python 3",
   "language": "python",
   "name": "python3"
  },
  "language_info": {
   "codemirror_mode": {
    "name": "ipython",
    "version": 3
   },
   "file_extension": ".py",
   "mimetype": "text/x-python",
   "name": "python",
   "nbconvert_exporter": "python",
   "pygments_lexer": "ipython3",
   "version": "3.10.12"
  }
 },
 "nbformat": 4,
 "nbformat_minor": 2
}
